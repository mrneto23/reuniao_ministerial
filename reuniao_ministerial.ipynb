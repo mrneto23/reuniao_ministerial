{
 "cells": [
  {
   "cell_type": "markdown",
   "metadata": {},
   "source": [
    "Importa as bibliotecas a serem utilizadas."
   ]
  },
  {
   "cell_type": "code",
   "execution_count": null,
   "metadata": {},
   "outputs": [],
   "source": [
    "import pandas as pd\n",
    "import numpy as np\n",
    "\n",
    "from PIL import Image\n",
    "import matplotlib.pyplot as plt\n",
    "\n",
    "import requests\n",
    "from bs4 import BeautifulSoup\n",
    "from wordcloud import WordCloud\n",
    "from wordcloud import STOPWORDS"
   ]
  },
  {
   "cell_type": "markdown",
   "metadata": {},
   "source": [
    "Utilizando o requests coleta o html da pagina do G1"
   ]
  },
  {
   "cell_type": "code",
   "execution_count": null,
   "metadata": {},
   "outputs": [],
   "source": [
    "url = 'https://g1.globo.com/politica/noticia/2020/05/22/leia-integra-da-transcricao-do-video-da-reuniao-ministerial-de-22-de-abril-entre-bolsonaro-e-ministros.ghtml'\n",
    "req = requests.get(url)\n",
    "soup = BeautifulSoup(req.text, 'html')"
   ]
  },
  {
   "cell_type": "markdown",
   "metadata": {},
   "source": [
    "Analisando o HTML identifica as TAGs para realizar os filtros para encontrar as informações desejadas e coloca em uma lista."
   ]
  },
  {
   "cell_type": "code",
   "execution_count": null,
   "metadata": {},
   "outputs": [],
   "source": [
    "list_tag_p = soup.find('div', {'class': 'mc-article-body'})\\\n",
    "                 .find('div', {'class': 'wall protected-content'})\\\n",
    "                 .find_all('div', {'class': 'mc-column content-text active-extra-styles'})"
   ]
  },
  {
   "cell_type": "markdown",
   "metadata": {},
   "source": [
    "Realiza mais um filtro pela TAG 'p' do HTML, realiza uma separação da string por ':' para separar o autor da frase e coloca em uma segunda lista.\n",
    "\n",
    "Ex: (Braga Netto: Posso chamar a atenção do Ramos?)"
   ]
  },
  {
   "cell_type": "code",
   "execution_count": null,
   "metadata": {},
   "outputs": [],
   "source": [
    "list_text = []\n",
    "for tag_p in list_tag_p:\n",
    "    list_text.append(tag_p.find('p').text.split(':', 1))"
   ]
  },
  {
   "cell_type": "markdown",
   "metadata": {},
   "source": [
    "Converte a lista em um Dataframe e separa as frases dos autores para serem utilizadas."
   ]
  },
  {
   "cell_type": "code",
   "execution_count": null,
   "metadata": {},
   "outputs": [],
   "source": [
    "df = pd.DataFrame(list_text[2:])\n",
    "text = df[1].values"
   ]
  },
  {
   "cell_type": "markdown",
   "metadata": {},
   "source": [
    "Primeiro teste."
   ]
  },
  {
   "cell_type": "code",
   "execution_count": null,
   "metadata": {},
   "outputs": [],
   "source": [
    "wordcloud = WordCloud().generate(str(text).lower())\n",
    "plt.imshow(wordcloud, interpolation='bilinear')\n",
    "plt.axis(\"off\")\n",
    "plt.show()"
   ]
  },
  {
   "cell_type": "markdown",
   "metadata": {},
   "source": [
    "Cria um set com as palavras que não fazem sentido ou não gostariamos de apresentar em nossa nuvem de palavras."
   ]
  },
  {
   "cell_type": "code",
   "execution_count": null,
   "metadata": {},
   "outputs": [],
   "source": [
    "stopwords = set(STOPWORDS)\n",
    "stopwords.update(['que', 'um', 'de', 'pra', 'ele', 'uma', 'em', 'então',\n",
    "                  'não', 'isso', 'tem', 'né', 'só', 'tá', 'da', 'você',\n",
    "                  'aqui', 'eu', 'na', 'aí', 'esse', 'essa', 'acho', 'vai',\n",
    "                  'mais', 'como', 'lá', 'por', 'que', 'ser', 'os', 'as', 'hoje',\n",
    "                  'nós', 'para', 'nosso', 'nossa', 'bem', 'pro', 'se', 'fazer',\n",
    "                  'já', 'nó', 'ao', 'ter', 'foi', 'são', 'pode', 'da',\n",
    "                  'do', 'porque', 'até', 'ou', 'nós', 'meu', 'quem', 'muito',\n",
    "                  'minha', 'tô', 'vou', 'estar', 'vamos', 'vamo', 'desse',\n",
    "                  'dessa', 'todo', 'tudo', 'vão', 'tudo', 'gente', 'pelo',\n",
    "                  'pela', 'uns', 'também', 'assim', 'sem', 'o', 'os', 'a',\n",
    "                  'as', 'era', 'agora', 'ma', 'ia', 'risos', 'ininteligível'])"
   ]
  },
  {
   "cell_type": "markdown",
   "metadata": {},
   "source": [
    "Segundo teste usando stopwords"
   ]
  },
  {
   "cell_type": "code",
   "execution_count": null,
   "metadata": {},
   "outputs": [],
   "source": [
    "wordcloud = WordCloud(stopwords=stopwords).generate(str(text).lower())\n",
    "plt.imshow(wordcloud, interpolation='bilinear')\n",
    "plt.axis(\"off\")\n",
    "plt.show()"
   ]
  },
  {
   "cell_type": "markdown",
   "metadata": {},
   "source": [
    "As palavras mais evidentes são presidente e misnistro, mas como são utilizadas para se dirigir a uma outra pessoa achei interessante remove-las."
   ]
  },
  {
   "cell_type": "code",
   "execution_count": null,
   "metadata": {},
   "outputs": [],
   "source": [
    "stopwords.update(['presidente', 'ministro'])"
   ]
  },
  {
   "cell_type": "code",
   "execution_count": null,
   "metadata": {},
   "outputs": [],
   "source": [
    "wordcloud = WordCloud(stopwords=stopwords).generate(str(text).lower())\n",
    "plt.imshow(wordcloud, interpolation='bilinear')\n",
    "plt.axis(\"off\")\n",
    "plt.show()"
   ]
  },
  {
   "cell_type": "markdown",
   "metadata": {},
   "source": [
    "Agora carregar a imagem do Congresso Nacional e colocar a numvem de palavras dentro."
   ]
  },
  {
   "cell_type": "code",
   "execution_count": null,
   "metadata": {},
   "outputs": [],
   "source": [
    "national_congress = np.array(Image.open(\"NationalCongress.png\"))\n",
    "\n",
    "wordcloud = WordCloud(stopwords=stopwords,\n",
    "                      max_words=1500,\n",
    "                      background_color=\"white\",\n",
    "                      mask=national_congress).generate(str(text).lower())\n",
    "\n",
    "plt.figure(figsize=[20,20])\n",
    "plt.imshow(wordcloud, interpolation='bilinear')\n",
    "plt.axis(\"off\")\n",
    "plt.show()"
   ]
  }
 ],
 "metadata": {
  "kernelspec": {
   "display_name": "Python 3",
   "language": "python",
   "name": "python3"
  },
  "language_info": {
   "codemirror_mode": {
    "name": "ipython",
    "version": 3
   },
   "file_extension": ".py",
   "mimetype": "text/x-python",
   "name": "python",
   "nbconvert_exporter": "python",
   "pygments_lexer": "ipython3",
   "version": "3.7.6"
  }
 },
 "nbformat": 4,
 "nbformat_minor": 4
}
